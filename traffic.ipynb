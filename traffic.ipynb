{
 "cells": [
  {
   "cell_type": "markdown",
   "metadata": {},
   "source": [
    "## Traffic Sign Detection Using CNN\n"
   ]
  },
  {
   "cell_type": "code",
   "execution_count": 28,
   "metadata": {
    "execution": {
     "iopub.execute_input": "2024-04-09T15:55:33.982613Z",
     "iopub.status.busy": "2024-04-09T15:55:33.982190Z",
     "iopub.status.idle": "2024-04-09T15:55:33.987955Z",
     "shell.execute_reply": "2024-04-09T15:55:33.986850Z",
     "shell.execute_reply.started": "2024-04-09T15:55:33.982574Z"
    }
   },
   "outputs": [],
   "source": [
    "import numpy as np\n",
    "import pandas as pd\n",
    "import os"
   ]
  },
  {
   "cell_type": "code",
   "execution_count": 29,
   "metadata": {
    "execution": {
     "iopub.execute_input": "2024-04-09T15:55:33.991140Z",
     "iopub.status.busy": "2024-04-09T15:55:33.990486Z",
     "iopub.status.idle": "2024-04-09T15:55:34.001695Z",
     "shell.execute_reply": "2024-04-09T15:55:34.000696Z",
     "shell.execute_reply.started": "2024-04-09T15:55:33.991100Z"
    }
   },
   "outputs": [],
   "source": [
    "os.chdir('/kaggle/input/gtsrb-german-traffic-sign/Train')"
   ]
  },
  {
   "cell_type": "markdown",
   "metadata": {},
   "source": [
    "#### Showing the Images"
   ]
  },
  {
   "cell_type": "code",
   "execution_count": 30,
   "metadata": {
    "execution": {
     "iopub.execute_input": "2024-04-09T15:55:34.003188Z",
     "iopub.status.busy": "2024-04-09T15:55:34.002844Z",
     "iopub.status.idle": "2024-04-09T15:55:34.008155Z",
     "shell.execute_reply": "2024-04-09T15:55:34.007109Z",
     "shell.execute_reply.started": "2024-04-09T15:55:34.003151Z"
    }
   },
   "outputs": [],
   "source": [
    "import matplotlib.pyplot as plt\n",
    "import cv2\n",
    "from PIL import Image"
   ]
  },
  {
   "cell_type": "code",
   "execution_count": 31,
   "metadata": {
    "execution": {
     "iopub.execute_input": "2024-04-09T15:55:34.009767Z",
     "iopub.status.busy": "2024-04-09T15:55:34.009462Z",
     "iopub.status.idle": "2024-04-09T15:55:34.151200Z",
     "shell.execute_reply": "2024-04-09T15:55:34.150100Z",
     "shell.execute_reply.started": "2024-04-09T15:55:34.009738Z"
    }
   },
   "outputs": [
    {
     "data": {
      "image/png": "[encoded data removed]",
      "text/plain": [
       "<Figure size 432x288 with 1 Axes>"
      ]
     },
     "metadata": {
      "needs_background": "light"
     },
     "output_type": "display_data"
    }
   ],
   "source": [
    "x=\"/kaggle/input/gtsrb-german-traffic-sign/Train/0/00000_00004_00029.png\"\n",
    "img=Image.open(x)\n",
    "img = img.resize((30, 30))\n",
    "sr = np.array(img) \n",
    "plt.imshow(img)\n",
    "plt.show()"
   ]
  },
  {
   "cell_type": "code",
   "execution_count": 32,
   "metadata": {
    "execution": {
     "iopub.execute_input": "2024-04-09T15:55:34.155352Z",
     "iopub.status.busy": "2024-04-09T15:55:34.154632Z",
     "iopub.status.idle": "2024-04-09T15:55:34.331859Z",
     "shell.execute_reply": "2024-04-09T15:55:34.330805Z",
     "shell.execute_reply.started": "2024-04-09T15:55:34.155312Z"
    }
   },
   "outputs": [
    {
     "data": {
      "image/png": "[encoded data removed]",
      "text/plain": [
       "<Figure size 432x288 with 1 Axes>"
      ]
     },
     "metadata": {
      "needs_background": "light"
     },
     "output_type": "display_data"
    }
   ],
   "source": [
    "x=r'/kaggle/input/gtsrb-german-traffic-sign/Test/00299.png'\n",
    "img=Image.open(x)\n",
    "img = img.resize((30, 30))\n",
    "sr = np.array(img) \n",
    "plt.imshow(img)\n",
    "plt.show()"
   ]
  },
  {
   "cell_type": "markdown",
   "metadata": {},
   "source": [
    "#### Making a list of the classes"
   ]
  },
  {
   "cell_type": "code",
   "execution_count": 33,
   "metadata": {
    "execution": {
     "iopub.execute_input": "2024-04-09T15:55:34.333321Z",
     "iopub.status.busy": "2024-04-09T15:55:34.333012Z",
     "iopub.status.idle": "2024-04-09T15:55:34.340918Z",
     "shell.execute_reply": "2024-04-09T15:55:34.339952Z",
     "shell.execute_reply.started": "2024-04-09T15:55:34.333294Z"
    }
   },
   "outputs": [],
   "source": [
    "classes = ['Speed limit (20km/h)',\n",
    "            'Speed limit (30km/h)', \n",
    "            'Speed limit (50km/h)', \n",
    "            'Speed limit (60km/h)', \n",
    "            'Speed limit (70km/h)', \n",
    "            'Speed limit (80km/h)', \n",
    "            'End of speed limit (80km/h)', \n",
    "            'Speed limit (100km/h)', \n",
    "            'Speed limit (120km/h)', \n",
    "            'No passing', \n",
    "            'No passing veh over 3.5 tons', \n",
    "            'Right-of-way at intersection', \n",
    "            'Priority road', \n",
    "            'Yield', \n",
    "            'Stop', \n",
    "            'No vehicles', \n",
    "            'Veh > 3.5 tons prohibited', \n",
    "            'No entry', \n",
    "            'General caution', \n",
    "            'Dangerous curve left', \n",
    "            'Dangerous curve right', \n",
    "            'Double curve', \n",
    "            'Bumpy road', \n",
    "            'Slippery road', \n",
    "            'Road narrows on the right', \n",
    "            'Road work', \n",
    "            'Traffic signals', \n",
    "            'Pedestrians', \n",
    "            'Children crossing', \n",
    "            'Bicycles crossing',\n",
    "            'Beware of ice/snow',\n",
    "            'Wild animals crossing', \n",
    "            'End speed + passing limits', \n",
    "            'Turn right ahead', \n",
    "            'Turn left ahead', \n",
    "            'Ahead only', \n",
    "            'Go straight or right', \n",
    "            'Go straight or left', \n",
    "            'Keep right', \n",
    "            'Keep left', \n",
    "            'Roundabout mandatory', \n",
    "            'End of no passing', \n",
    "            'End no passing veh > 3.5 tons' ]"
   ]
  },
  {
   "cell_type": "markdown",
   "metadata": {},
   "source": [
    "#### Preprocess the Images "
   ]
  },
  {
   "cell_type": "code",
   "execution_count": 34,
   "metadata": {
    "execution": {
     "iopub.execute_input": "2024-04-09T15:55:34.342575Z",
     "iopub.status.busy": "2024-04-09T15:55:34.342302Z",
     "iopub.status.idle": "2024-04-09T15:55:49.911146Z",
     "shell.execute_reply": "2024-04-09T15:55:49.909180Z",
     "shell.execute_reply.started": "2024-04-09T15:55:34.342551Z"
    }
   },
   "outputs": [
    {
     "name": "stdout",
     "output_type": "stream",
     "text": [
      "Found 39209 images belonging to 43 classes.\n"
     ]
    }
   ],
   "source": [
    "from keras.preprocessing import image\n",
    "\n",
    "#setting the path\n",
    "train_path = \"/kaggle/input/gtsrb-german-traffic-sign/Train\"\n",
    "\n",
    "#creating image generation object\n",
    "train_datagen = image.ImageDataGenerator(rescale=1./255)\n",
    "\n",
    "#training the dataset\n",
    "train = train_datagen.flow_from_directory(train_path, \n",
    "                                            target_size = (26,26),\n",
    "                                            batch_size = 32, \n",
    "                                            class_mode = 'categorical')"
   ]
  },
  {
   "cell_type": "markdown",
   "metadata": {},
   "source": [
    "#### Storing the Labels & the Data\n"
   ]
  },
  {
   "cell_type": "code",
   "execution_count": 35,
   "metadata": {
    "execution": {
     "iopub.execute_input": "2024-04-09T15:55:49.913499Z",
     "iopub.status.busy": "2024-04-09T15:55:49.912824Z",
     "iopub.status.idle": "2024-04-09T15:57:06.855588Z",
     "shell.execute_reply": "2024-04-09T15:57:06.854478Z",
     "shell.execute_reply.started": "2024-04-09T15:55:49.913462Z"
    }
   },
   "outputs": [
    {
     "name": "stdout",
     "output_type": "stream",
     "text": [
      "(39209, 30, 30, 3)\n",
      "(39209,)\n"
     ]
    }
   ],
   "source": [
    "data = []\n",
    "labels = []\n",
    "classes = 43\n",
    "for i in range(classes):\n",
    "    path = os.path.join(train_path,str(i))\n",
    "    images = os.listdir(path)\n",
    "    for a in images:\n",
    "        try:\n",
    "            image = Image.open(path + '/' + a)\n",
    "            image = image.resize((30,30))\n",
    "            image = np.array(image)\n",
    "            data.append(image)\n",
    "            labels.append(i)\n",
    "        except:\n",
    "            print(\"error loading image.\")\n",
    "data = np.array(data)\n",
    "labels = np.array(labels)\n",
    "print(data.shape)\n",
    "print(labels.shape)"
   ]
  },
  {
   "cell_type": "markdown",
   "metadata": {},
   "source": [
    "\n",
    "#### Splitting the traing and Testing data\n"
   ]
  },
  {
   "cell_type": "code",
   "execution_count": 36,
   "metadata": {
    "execution": {
     "iopub.execute_input": "2024-04-09T15:57:06.857666Z",
     "iopub.status.busy": "2024-04-09T15:57:06.856916Z",
     "iopub.status.idle": "2024-04-09T15:57:06.900900Z",
     "shell.execute_reply": "2024-04-09T15:57:06.899879Z",
     "shell.execute_reply.started": "2024-04-09T15:57:06.857631Z"
    }
   },
   "outputs": [],
   "source": [
    "from sklearn.model_selection import train_test_split\n",
    "\n",
    "x_train,x_test,y_train,y_test=train_test_split(data,\n",
    "                                                    labels,\n",
    "                                                    test_size = 0.2,\n",
    "                                                    random_state = 42)"
   ]
  },
  {
   "cell_type": "code",
   "execution_count": 37,
   "metadata": {
    "execution": {
     "iopub.execute_input": "2024-04-09T15:57:06.902953Z",
     "iopub.status.busy": "2024-04-09T15:57:06.902652Z",
     "iopub.status.idle": "2024-04-09T15:57:06.908265Z",
     "shell.execute_reply": "2024-04-09T15:57:06.907218Z",
     "shell.execute_reply.started": "2024-04-09T15:57:06.902925Z"
    }
   },
   "outputs": [
    {
     "name": "stdout",
     "output_type": "stream",
     "text": [
      "(31367, 30, 30, 3) (7842, 30, 30, 3) (31367,) (7842,)\n"
     ]
    }
   ],
   "source": [
    "print(x_train.shape,x_test.shape,y_train.shape,y_test.shape )"
   ]
  },
  {
   "cell_type": "markdown",
   "metadata": {},
   "source": [
    "#### Convert The Lables to neumwrical from categorical"
   ]
  },
  {
   "cell_type": "code",
   "execution_count": 38,
   "metadata": {
    "execution": {
     "iopub.execute_input": "2024-04-09T15:57:06.909925Z",
     "iopub.status.busy": "2024-04-09T15:57:06.909601Z",
     "iopub.status.idle": "2024-04-09T15:57:06.923227Z",
     "shell.execute_reply": "2024-04-09T15:57:06.922353Z",
     "shell.execute_reply.started": "2024-04-09T15:57:06.909896Z"
    }
   },
   "outputs": [],
   "source": [
    "from tensorflow.keras.utils import to_categorical\n",
    "\n",
    "y_train=to_categorical(y_train, 43)\n",
    "y_test=to_categorical(y_test, 43)"
   ]
  },
  {
   "cell_type": "markdown",
   "metadata": {},
   "source": [
    "### Building the model"
   ]
  },
  {
   "cell_type": "code",
   "execution_count": 39,
   "metadata": {
    "execution": {
     "iopub.execute_input": "2024-04-09T15:57:06.924760Z",
     "iopub.status.busy": "2024-04-09T15:57:06.924486Z",
     "iopub.status.idle": "2024-04-09T15:57:06.932719Z",
     "shell.execute_reply": "2024-04-09T15:57:06.931629Z",
     "shell.execute_reply.started": "2024-04-09T15:57:06.924734Z"
    }
   },
   "outputs": [],
   "source": [
    "from keras.models import Sequential, load_model\n",
    "from keras.layers import Conv2D, MaxPool2D, Dense, Flatten, Dropout"
   ]
  },
  {
   "cell_type": "code",
   "execution_count": 40,
   "metadata": {
    "execution": {
     "iopub.execute_input": "2024-04-09T15:57:06.934257Z",
     "iopub.status.busy": "2024-04-09T15:57:06.933942Z",
     "iopub.status.idle": "2024-04-09T15:57:07.017976Z",
     "shell.execute_reply": "2024-04-09T15:57:07.017202Z",
     "shell.execute_reply.started": "2024-04-09T15:57:06.934230Z"
    }
   },
   "outputs": [],
   "source": [
    "model = Sequential()\n",
    "\n",
    "#32 filters\n",
    "model.add(Conv2D(filters=32, kernel_size=(5,5), activation='relu', input_shape=x_train.shape[1:]))\n",
    "model.add(Conv2D(filters=32, kernel_size=(5,5), activation='relu'))\n",
    "model.add(MaxPool2D(pool_size=(2, 2)))\n",
    "model.add(Dropout(rate=0.25))\n",
    "\n",
    "#64 filters\n",
    "model.add(Conv2D(filters=64, kernel_size=(3, 3), activation='relu'))\n",
    "model.add(Conv2D(filters=64, kernel_size=(3, 3), activation='relu'))\n",
    "model.add(MaxPool2D(pool_size=(2, 2)))\n",
    "model.add(Dropout(rate=0.25))\n",
    "\n",
    "model.add(Flatten())\n",
    "\n",
    "model.add(Dense(256, activation='relu'))\n",
    "\n",
    "model.add(Dropout(rate=0.5))\n",
    "\n",
    "model.add(Dense(43, activation='softmax'))#as we have 43 classes"
   ]
  },
  {
   "cell_type": "markdown",
   "metadata": {},
   "source": [
    "#### Summary of the model"
   ]
  },
  {
   "cell_type": "code",
   "execution_count": 41,
   "metadata": {
    "execution": {
     "iopub.execute_input": "2024-04-09T15:57:07.023864Z",
     "iopub.status.busy": "2024-04-09T15:57:07.023189Z",
     "iopub.status.idle": "2024-04-09T15:57:07.030655Z",
     "shell.execute_reply": "2024-04-09T15:57:07.029434Z",
     "shell.execute_reply.started": "2024-04-09T15:57:07.023827Z"
    }
   },
   "outputs": [
    {
     "name": "stdout",
     "output_type": "stream",
     "text": [
      "Model: \"sequential_1\"\n",
      "_________________________________________________________________\n",
      "Layer (type)                 Output Shape              Param #   \n",
      "=================================================================\n",
      "conv2d_4 (Conv2D)            (None, 26, 26, 32)        2432      \n",
      "_________________________________________________________________\n",
      "conv2d_5 (Conv2D)            (None, 22, 22, 32)        25632     \n",
      "_________________________________________________________________\n",
      "max_pooling2d_2 (MaxPooling2 (None, 11, 11, 32)        0         \n",
      "_________________________________________________________________\n",
      "dropout_3 (Dropout)          (None, 11, 11, 32)        0         \n",
      "_________________________________________________________________\n",
      "conv2d_6 (Conv2D)            (None, 9, 9, 64)          18496     \n",
      "_________________________________________________________________\n",
      "conv2d_7 (Conv2D)            (None, 7, 7, 64)          36928     \n",
      "_________________________________________________________________\n",
      "max_pooling2d_3 (MaxPooling2 (None, 3, 3, 64)          0         \n",
      "_________________________________________________________________\n",
      "dropout_4 (Dropout)          (None, 3, 3, 64)          0         \n",
      "_________________________________________________________________\n",
      "flatten_1 (Flatten)          (None, 576)               0         \n",
      "_________________________________________________________________\n",
      "dense_2 (Dense)              (None, 256)               147712    \n",
      "_________________________________________________________________\n",
      "dropout_5 (Dropout)          (None, 256)               0         \n",
      "_________________________________________________________________\n",
      "dense_3 (Dense)              (None, 43)                11051     \n",
      "=================================================================\n",
      "Total params: 242,251\n",
      "Trainable params: 242,251\n",
      "Non-trainable params: 0\n",
      "_________________________________________________________________\n"
     ]
    }
   ],
   "source": [
    "model.summary()"
   ]
  },
  {
   "cell_type": "markdown",
   "metadata": {
    "execution": {
     "iopub.execute_input": "2023-01-28T04:33:01.156567Z",
     "iopub.status.busy": "2023-01-28T04:33:01.155928Z",
     "iopub.status.idle": "2023-01-28T04:33:01.423411Z",
     "shell.execute_reply": "2023-01-28T04:33:01.420668Z",
     "shell.execute_reply.started": "2023-01-28T04:33:01.156493Z"
    }
   },
   "source": [
    "### Compiling the model"
   ]
  },
  {
   "cell_type": "code",
   "execution_count": 42,
   "metadata": {
    "execution": {
     "iopub.execute_input": "2024-04-09T15:57:07.032227Z",
     "iopub.status.busy": "2024-04-09T15:57:07.031842Z",
     "iopub.status.idle": "2024-04-09T15:57:07.047067Z",
     "shell.execute_reply": "2024-04-09T15:57:07.046087Z",
     "shell.execute_reply.started": "2024-04-09T15:57:07.032191Z"
    }
   },
   "outputs": [],
   "source": [
    "model.compile(loss='categorical_crossentropy', optimizer='adam', metrics=['accuracy'])"
   ]
  },
  {
   "cell_type": "markdown",
   "metadata": {},
   "source": [
    "#### Fitting the model"
   ]
  },
  {
   "cell_type": "code",
   "execution_count": 43,
   "metadata": {
    "execution": {
     "iopub.execute_input": "2024-04-09T15:57:07.048690Z",
     "iopub.status.busy": "2024-04-09T15:57:07.048390Z",
     "iopub.status.idle": "2024-04-09T15:59:29.737213Z",
     "shell.execute_reply": "2024-04-09T15:59:29.736110Z",
     "shell.execute_reply.started": "2024-04-09T15:57:07.048664Z"
    }
   },
   "outputs": [
    {
     "name": "stdout",
     "output_type": "stream",
     "text": [
      "Epoch 1/25\n",
      "981/981 [==============================] - 6s 5ms/step - loss: 2.0112 - accuracy: 0.4823 - val_loss: 0.6023 - val_accuracy: 0.8507\n",
      "Epoch 2/25\n",
      "981/981 [==============================] - 5s 5ms/step - loss: 0.8419 - accuracy: 0.7527 - val_loss: 0.3614 - val_accuracy: 0.9153\n",
      "Epoch 3/25\n",
      "981/981 [==============================] - 5s 5ms/step - loss: 0.6264 - accuracy: 0.8121 - val_loss: 0.2698 - val_accuracy: 0.9281\n",
      "Epoch 4/25\n",
      "981/981 [==============================] - 4s 5ms/step - loss: 0.5059 - accuracy: 0.8447 - val_loss: 0.1708 - val_accuracy: 0.9491\n",
      "Epoch 5/25\n",
      "981/981 [==============================] - 5s 5ms/step - loss: 0.4373 - accuracy: 0.8670 - val_loss: 0.1385 - val_accuracy: 0.9602\n",
      "Epoch 6/25\n",
      "981/981 [==============================] - 5s 5ms/step - loss: 0.3771 - accuracy: 0.8867 - val_loss: 0.1344 - val_accuracy: 0.9689\n",
      "Epoch 7/25\n",
      "981/981 [==============================] - 5s 5ms/step - loss: 0.3586 - accuracy: 0.8947 - val_loss: 0.1309 - val_accuracy: 0.9648\n",
      "Epoch 8/25\n",
      "981/981 [==============================] - 5s 5ms/step - loss: 0.3458 - accuracy: 0.9005 - val_loss: 0.1098 - val_accuracy: 0.9702\n",
      "Epoch 9/25\n",
      "981/981 [==============================] - 5s 5ms/step - loss: 0.2853 - accuracy: 0.9154 - val_loss: 0.0900 - val_accuracy: 0.9755\n",
      "Epoch 10/25\n",
      "981/981 [==============================] - 5s 5ms/step - loss: 0.2774 - accuracy: 0.9198 - val_loss: 0.1095 - val_accuracy: 0.9699\n",
      "Epoch 11/25\n",
      "981/981 [==============================] - 5s 5ms/step - loss: 0.2679 - accuracy: 0.9231 - val_loss: 0.0613 - val_accuracy: 0.9830\n",
      "Epoch 12/25\n",
      "981/981 [==============================] - 5s 5ms/step - loss: 0.2602 - accuracy: 0.9266 - val_loss: 0.0629 - val_accuracy: 0.9836\n",
      "Epoch 13/25\n",
      "981/981 [==============================] - 5s 5ms/step - loss: 0.2654 - accuracy: 0.9258 - val_loss: 0.1220 - val_accuracy: 0.9647\n",
      "Epoch 14/25\n",
      "981/981 [==============================] - 5s 5ms/step - loss: 0.2526 - accuracy: 0.9273 - val_loss: 0.0926 - val_accuracy: 0.9733\n",
      "Epoch 15/25\n",
      "981/981 [==============================] - 5s 5ms/step - loss: 0.2459 - accuracy: 0.9329 - val_loss: 0.0622 - val_accuracy: 0.9829\n",
      "Epoch 16/25\n",
      "981/981 [==============================] - 5s 5ms/step - loss: 0.2678 - accuracy: 0.9275 - val_loss: 0.0913 - val_accuracy: 0.9768\n",
      "Epoch 17/25\n",
      "981/981 [==============================] - 5s 5ms/step - loss: 0.2440 - accuracy: 0.9321 - val_loss: 0.0601 - val_accuracy: 0.9851\n",
      "Epoch 18/25\n",
      "981/981 [==============================] - 5s 5ms/step - loss: 0.2411 - accuracy: 0.9341 - val_loss: 0.0485 - val_accuracy: 0.9869\n",
      "Epoch 19/25\n",
      "981/981 [==============================] - 5s 5ms/step - loss: 0.2140 - accuracy: 0.9420 - val_loss: 0.0574 - val_accuracy: 0.9838\n",
      "Epoch 20/25\n",
      "981/981 [==============================] - 5s 5ms/step - loss: 0.2331 - accuracy: 0.9389 - val_loss: 0.0651 - val_accuracy: 0.9823\n",
      "Epoch 21/25\n",
      "981/981 [==============================] - 5s 5ms/step - loss: 0.2541 - accuracy: 0.9323 - val_loss: 0.1004 - val_accuracy: 0.9718\n",
      "Epoch 22/25\n",
      "981/981 [==============================] - 5s 5ms/step - loss: 0.2206 - accuracy: 0.9417 - val_loss: 0.0539 - val_accuracy: 0.9839\n",
      "Epoch 23/25\n",
      "981/981 [==============================] - 5s 5ms/step - loss: 0.2173 - accuracy: 0.9427 - val_loss: 0.0677 - val_accuracy: 0.9815\n",
      "Epoch 24/25\n",
      "981/981 [==============================] - 5s 5ms/step - loss: 0.2265 - accuracy: 0.9409 - val_loss: 0.0642 - val_accuracy: 0.9825\n",
      "Epoch 25/25\n",
      "981/981 [==============================] - 5s 5ms/step - loss: 0.2250 - accuracy: 0.9417 - val_loss: 0.0802 - val_accuracy: 0.9796\n"
     ]
    }
   ],
   "source": [
    "history=model.fit(x_train,y_train,batch_size=32,epochs=25,validation_data=(x_test, y_test))"
   ]
  },
  {
   "cell_type": "markdown",
   "metadata": {},
   "source": [
    "#### Checking the model Accuracy"
   ]
  },
  {
   "cell_type": "code",
   "execution_count": 44,
   "metadata": {
    "execution": {
     "iopub.execute_input": "2024-04-09T15:59:29.739326Z",
     "iopub.status.busy": "2024-04-09T15:59:29.738856Z",
     "iopub.status.idle": "2024-04-09T15:59:30.430399Z",
     "shell.execute_reply": "2024-04-09T15:59:30.429015Z",
     "shell.execute_reply.started": "2024-04-09T15:59:29.739284Z"
    }
   },
   "outputs": [
    {
     "name": "stdout",
     "output_type": "stream",
     "text": [
      "test accuracy:  0.9795970320701599\n"
     ]
    }
   ],
   "source": [
    "score = model.evaluate(x_test,y_test,verbose = 0)\n",
    "\n",
    "print('test accuracy: ', score[1])"
   ]
  },
  {
   "cell_type": "code",
   "execution_count": 45,
   "metadata": {
    "execution": {
     "iopub.execute_input": "2024-04-09T15:59:30.432321Z",
     "iopub.status.busy": "2024-04-09T15:59:30.431863Z",
     "iopub.status.idle": "2024-04-09T15:59:30.486079Z",
     "shell.execute_reply": "2024-04-09T15:59:30.485257Z",
     "shell.execute_reply.started": "2024-04-09T15:59:30.432285Z"
    }
   },
   "outputs": [],
   "source": [
    "from keras.models import load_model \n",
    "model.save(\"/kaggle/traffic.h5\")"
   ]
  },
  {
   "cell_type": "markdown",
   "metadata": {},
   "source": [
    "## To check How Our Model Working"
   ]
  },
  {
   "cell_type": "code",
   "execution_count": 46,
   "metadata": {
    "execution": {
     "iopub.execute_input": "2024-04-09T15:59:30.487563Z",
     "iopub.status.busy": "2024-04-09T15:59:30.487270Z",
     "iopub.status.idle": "2024-04-09T15:59:30.494885Z",
     "shell.execute_reply": "2024-04-09T15:59:30.493814Z",
     "shell.execute_reply.started": "2024-04-09T15:59:30.487535Z"
    }
   },
   "outputs": [],
   "source": [
    "from PIL import Image\n",
    "import numpy as np\n",
    "import matplotlib.pyplot as plt\n",
    "\n",
    "def check(img):\n",
    "    data=[]\n",
    "    image = Image.open(img)\n",
    "    image = image.resize((30,30))\n",
    "    data.append(np.array(image))\n",
    "    X_test=np.array(data)\n",
    "    Y_pred = np.argmax(model.predict(X_test),axis=1)\n",
    "    return image,Y_pred"
   ]
  },
  {
   "cell_type": "code",
   "execution_count": 48,
   "metadata": {
    "execution": {
     "iopub.execute_input": "2024-04-09T16:02:11.699647Z",
     "iopub.status.busy": "2024-04-09T16:02:11.698629Z",
     "iopub.status.idle": "2024-04-09T16:02:11.707990Z",
     "shell.execute_reply": "2024-04-09T16:02:11.706791Z",
     "shell.execute_reply.started": "2024-04-09T16:02:11.699606Z"
    }
   },
   "outputs": [],
   "source": [
    "classes = ['Speed limit (20km/h)',\n",
    "            'Speed limit (30km/h)', \n",
    "            'Speed limit (50km/h)', \n",
    "            'Speed limit (60km/h)', \n",
    "            'Speed limit (70km/h)', \n",
    "            'Speed limit (80km/h)', \n",
    "            'End of speed limit (80km/h)', \n",
    "            'Speed limit (100km/h)', \n",
    "            'Speed limit (120km/h)', \n",
    "            'No passing', \n",
    "            'No passing veh over 3.5 tons', \n",
    "            'Right-of-way at intersection', \n",
    "            'Priority road', \n",
    "            'Yield', \n",
    "            'Stop', \n",
    "            'No vehicles', \n",
    "            'Veh > 3.5 tons prohibited', \n",
    "            'No entry', \n",
    "            'General caution', \n",
    "            'Dangerous curve left', \n",
    "            'Dangerous curve right', \n",
    "            'Double curve', \n",
    "            'Bumpy road', \n",
    "            'Slippery road', \n",
    "            'Road narrows on the right', \n",
    "            'Road work', \n",
    "            'Traffic signals', \n",
    "            'Pedestrians', \n",
    "            'Children crossing', \n",
    "            'Bicycles crossing',\n",
    "            'Beware of ice/snow',\n",
    "            'Wild animals crossing', \n",
    "            'End speed + passing limits', \n",
    "            'Turn right ahead', \n",
    "            'Turn left ahead', \n",
    "            'Ahead only', \n",
    "            'Go straight or right', \n",
    "            'Go straight or left', \n",
    "            'Keep right', \n",
    "            'Keep left', \n",
    "            'Roundabout mandatory', \n",
    "            'End of no passing', \n",
    "            'End no passing veh > 3.5 tons' ]"
   ]
  },
  {
   "cell_type": "code",
   "execution_count": 49,
   "metadata": {
    "execution": {
     "iopub.execute_input": "2024-04-09T16:02:11.929003Z",
     "iopub.status.busy": "2024-04-09T16:02:11.928564Z",
     "iopub.status.idle": "2024-04-09T16:02:12.184415Z",
     "shell.execute_reply": "2024-04-09T16:02:12.183547Z",
     "shell.execute_reply.started": "2024-04-09T16:02:11.928966Z"
    }
   },
   "outputs": [
    {
     "name": "stdout",
     "output_type": "stream",
     "text": [
      "Predicted traffic sign is:  Keep right\n"
     ]
    },
    {
     "data": {
      "image/png": "[encoded data removed]",
      "text/plain": [
       "<Figure size 432x288 with 1 Axes>"
      ]
     },
     "metadata": {
      "needs_background": "light"
     },
     "output_type": "display_data"
    }
   ],
   "source": [
    "plot,prediction=check(r'/kaggle/input/gtsrb-german-traffic-sign/Test/00019.png')\n",
    "s=[str(i)for i in prediction] \n",
    "a=\"\".join(s)\n",
    "a=int(a)\n",
    "print(\"Predicted traffic sign is: \", classes[a])\n",
    "plt.imshow(plot)\n",
    "plt.show()"
   ]
  },
  {
   "cell_type": "code",
   "execution_count": 50,
   "metadata": {
    "execution": {
     "iopub.execute_input": "2024-04-09T16:02:12.186499Z",
     "iopub.status.busy": "2024-04-09T16:02:12.186161Z",
     "iopub.status.idle": "2024-04-09T16:02:12.441826Z",
     "shell.execute_reply": "2024-04-09T16:02:12.440686Z",
     "shell.execute_reply.started": "2024-04-09T16:02:12.186468Z"
    }
   },
   "outputs": [
    {
     "name": "stdout",
     "output_type": "stream",
     "text": [
      "Predicted traffic sign is:  Road work\n"
     ]
    },
    {
     "data": {
      "image/png": "[encoded data removed]",
      "text/plain": [
       "<Figure size 432x288 with 1 Axes>"
      ]
     },
     "metadata": {
      "needs_background": "light"
     },
     "output_type": "display_data"
    }
   ],
   "source": [
    "plot,prediction=check(r'/kaggle/input/gtsrb-german-traffic-sign/Test/00079.png')\n",
    "s=[str(i)for i in prediction] \n",
    "a=\"\".join(s)\n",
    "a=int(a)\n",
    "print(\"Predicted traffic sign is: \", classes[a])\n",
    "plt.imshow(plot)\n",
    "plt.show()"
   ]
  },
  {
   "cell_type": "code",
   "execution_count": 51,
   "metadata": {
    "execution": {
     "iopub.execute_input": "2024-04-09T16:02:12.444264Z",
     "iopub.status.busy": "2024-04-09T16:02:12.443900Z",
     "iopub.status.idle": "2024-04-09T16:02:12.692929Z",
     "shell.execute_reply": "2024-04-09T16:02:12.692024Z",
     "shell.execute_reply.started": "2024-04-09T16:02:12.444232Z"
    }
   },
   "outputs": [
    {
     "name": "stdout",
     "output_type": "stream",
     "text": [
      "Predicted traffic sign is:  Speed limit (50km/h)\n"
     ]
    },
    {
     "data": {
      "image/png": "[encoded data removed]",
      "text/plain": [
       "<Figure size 432x288 with 1 Axes>"
      ]
     },
     "metadata": {
      "needs_background": "light"
     },
     "output_type": "display_data"
    }
   ],
   "source": [
    "plot,prediction=check(r'/kaggle/input/gtsrb-german-traffic-sign/Test/00034.png')\n",
    "s=[str(i)for i in prediction] \n",
    "a=\"\".join(s)\n",
    "a=int(a)\n",
    "print(\"Predicted traffic sign is: \", classes[a])\n",
    "plt.imshow(plot)\n",
    "plt.show()"
   ]
  },
  {
   "cell_type": "markdown",
   "metadata": {},
   "source": [
    "# Thank You"
   ]
  },
  {
   "cell_type": "code",
   "execution_count": null,
   "metadata": {},
   "outputs": [],
   "source": []
  }
 ],
 "metadata": {
  "kaggle": {
   "accelerator": "nvidiaTeslaT4",
   "dataSources": [
    {
     "datasetId": 82373,
     "sourceId": 191501,
     "sourceType": "datasetVersion"
    }
   ],
   "dockerImageVersionId": 30356,
   "isGpuEnabled": true,
   "isInternetEnabled": true,
   "language": "python",
   "sourceType": "notebook"
  },
  "kernelspec": {
   "display_name": "Python 3",
   "language": "python",
   "name": "python3"
  },
  "language_info": {
   "codemirror_mode": {
    "name": "ipython",
    "version": 3
   },
   "file_extension": ".py",
   "mimetype": "text/x-python",
   "name": "python",
   "nbconvert_exporter": "python",
   "pygments_lexer": "ipython3",
   "version": "3.8.3"
  }
 },
 "nbformat": 4,
 "nbformat_minor": 4
}
